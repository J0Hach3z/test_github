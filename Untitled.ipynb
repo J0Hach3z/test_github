{
 "cells": [
  {
   "cell_type": "code",
   "execution_count": 1,
   "id": "8924332d-5de7-4ce9-9c80-9c3a74c9db7f",
   "metadata": {},
   "outputs": [
    {
     "name": "stdout",
     "output_type": "stream",
     "text": [
      "Testing in Progress\n"
     ]
    }
   ],
   "source": [
    "run test.py"
   ]
  },
  {
   "cell_type": "code",
   "execution_count": null,
   "id": "48f0ab88-cf53-45ca-b66c-b99ff36e2aa8",
   "metadata": {},
   "outputs": [],
   "source": []
  }
 ],
 "metadata": {
  "kernelspec": {
   "display_name": "Python 3 (ipykernel)",
   "language": "python",
   "name": "python3"
  },
  "language_info": {
   "codemirror_mode": {
    "name": "ipython",
    "version": 3
   },
   "file_extension": ".py",
   "mimetype": "text/x-python",
   "name": "python",
   "nbconvert_exporter": "python",
   "pygments_lexer": "ipython3",
   "version": "3.9.12"
  }
 },
 "nbformat": 4,
 "nbformat_minor": 5
}
